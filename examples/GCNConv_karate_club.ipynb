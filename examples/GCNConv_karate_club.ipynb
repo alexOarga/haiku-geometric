{
  "nbformat": 4,
  "nbformat_minor": 0,
  "metadata": {
    "colab": {
      "provenance": []
    },
    "kernelspec": {
      "name": "python3",
      "display_name": "Python 3"
    },
    "language_info": {
      "name": "python"
    }
  },
  "cells": [
    {
      "cell_type": "markdown",
      "source": [
        "# Install and import libraries\n"
      ],
      "metadata": {
        "id": "6_4PXJKoUjYL"
      }
    },
    {
      "cell_type": "code",
      "execution_count": 1,
      "metadata": {
        "colab": {
          "base_uri": "https://localhost:8080/"
        },
        "id": "4KglkrKniKHo",
        "outputId": "b283cbc5-42de-4855-af97-cdd01cb663b7"
      },
      "outputs": [
        {
          "output_type": "stream",
          "name": "stdout",
          "text": [
            "Looking in indexes: https://pypi.org/simple, https://us-python.pkg.dev/colab-wheels/public/simple/\n",
            "Requirement already satisfied: haiku-geometric in /usr/local/lib/python3.8/dist-packages (0.0.2)\n",
            "Requirement already satisfied: optax in /usr/local/lib/python3.8/dist-packages (0.1.4)\n",
            "Requirement already satisfied: tqdm in /usr/local/lib/python3.8/dist-packages (from haiku-geometric) (4.64.1)\n",
            "Requirement already satisfied: dm-haiku in /usr/local/lib/python3.8/dist-packages (from haiku-geometric) (0.0.9)\n",
            "Requirement already satisfied: setuptools in /usr/local/lib/python3.8/dist-packages (from haiku-geometric) (57.4.0)\n",
            "Requirement already satisfied: jraph in /usr/local/lib/python3.8/dist-packages (from haiku-geometric) (0.0.6.dev0)\n",
            "Requirement already satisfied: jax in /usr/local/lib/python3.8/dist-packages (from haiku-geometric) (0.3.25)\n",
            "Requirement already satisfied: typing-extensions>=3.10.0 in /usr/local/lib/python3.8/dist-packages (from optax) (4.4.0)\n",
            "Requirement already satisfied: jaxlib>=0.1.37 in /usr/local/lib/python3.8/dist-packages (from optax) (0.3.25+cuda11.cudnn805)\n",
            "Requirement already satisfied: numpy>=1.18.0 in /usr/local/lib/python3.8/dist-packages (from optax) (1.21.6)\n",
            "Requirement already satisfied: absl-py>=0.7.1 in /usr/local/lib/python3.8/dist-packages (from optax) (1.3.0)\n",
            "Requirement already satisfied: chex>=0.1.5 in /usr/local/lib/python3.8/dist-packages (from optax) (0.1.5)\n",
            "Requirement already satisfied: dm-tree>=0.1.5 in /usr/local/lib/python3.8/dist-packages (from chex>=0.1.5->optax) (0.1.8)\n",
            "Requirement already satisfied: toolz>=0.9.0 in /usr/local/lib/python3.8/dist-packages (from chex>=0.1.5->optax) (0.12.0)\n",
            "Requirement already satisfied: scipy>=1.5 in /usr/local/lib/python3.8/dist-packages (from jax->haiku-geometric) (1.7.3)\n",
            "Requirement already satisfied: opt-einsum in /usr/local/lib/python3.8/dist-packages (from jax->haiku-geometric) (3.3.0)\n",
            "Requirement already satisfied: jmp>=0.0.2 in /usr/local/lib/python3.8/dist-packages (from dm-haiku->haiku-geometric) (0.0.2)\n",
            "Requirement already satisfied: tabulate>=0.8.9 in /usr/local/lib/python3.8/dist-packages (from dm-haiku->haiku-geometric) (0.8.10)\n"
          ]
        }
      ],
      "source": [
        "!pip install haiku-geometric optax"
      ]
    },
    {
      "cell_type": "code",
      "source": [
        "import jax\n",
        "import jax.numpy as jnp\n",
        "import optax\n",
        "import haiku as hk\n",
        "from haiku_geometric.nn import GCNConv\n",
        "from haiku_geometric.datasets import KarateClub\n",
        "\n",
        "import logging\n",
        "logger = logging.getLogger()"
      ],
      "metadata": {
        "id": "4n8TErxUjdzW"
      },
      "execution_count": 2,
      "outputs": []
    },
    {
      "cell_type": "markdown",
      "source": [
        "# Inspecting the dataset"
      ],
      "metadata": {
        "id": "Dsqu_XalU47B"
      }
    },
    {
      "cell_type": "markdown",
      "source": [
        "We import here the data from the [Zachary's karate club dataset](www1.ind.ku.dk/complexLearning/zachary1977.pdf)."
      ],
      "metadata": {
        "id": "YLL7x8n6XGbj"
      }
    },
    {
      "cell_type": "code",
      "source": [
        "dataset = KarateClub()"
      ],
      "metadata": {
        "colab": {
          "base_uri": "https://localhost:8080/"
        },
        "id": "ToyxzGGnjvKw",
        "outputId": "e457c6b9-beda-4d9d-9dbe-bef9276ae6d4"
      },
      "execution_count": 3,
      "outputs": [
        {
          "output_type": "stream",
          "name": "stderr",
          "text": [
            "WARNING:jax._src.lib.xla_bridge:No GPU/TPU found, falling back to CPU. (Set TF_CPP_MIN_LOG_LEVEL=0 and rerun for more info.)\n"
          ]
        }
      ]
    },
    {
      "cell_type": "code",
      "source": [
        "list_of_graphs = dataset.data\n",
        "graph = list_of_graphs[0] # There is only one graph in this dataset"
      ],
      "metadata": {
        "id": "c4gsImP8jxCg"
      },
      "execution_count": 4,
      "outputs": []
    },
    {
      "cell_type": "code",
      "source": [
        "graph.nodes"
      ],
      "metadata": {
        "colab": {
          "base_uri": "https://localhost:8080/"
        },
        "id": "FOZPRfdgVRWG",
        "outputId": "aaa9cfb3-db5d-4a3d-8d62-6d1e7c6b1af7"
      },
      "execution_count": 5,
      "outputs": [
        {
          "output_type": "execute_result",
          "data": {
            "text/plain": [
              "DeviceArray([[1., 0., 0., ..., 0., 0., 0.],\n",
              "             [0., 1., 0., ..., 0., 0., 0.],\n",
              "             [0., 0., 1., ..., 0., 0., 0.],\n",
              "             ...,\n",
              "             [0., 0., 0., ..., 1., 0., 0.],\n",
              "             [0., 0., 0., ..., 0., 1., 0.],\n",
              "             [0., 0., 0., ..., 0., 0., 1.]], dtype=float32)"
            ]
          },
          "metadata": {},
          "execution_count": 5
        }
      ]
    },
    {
      "cell_type": "code",
      "source": [
        "graph.senders"
      ],
      "metadata": {
        "colab": {
          "base_uri": "https://localhost:8080/"
        },
        "id": "0ymWeYUmVfdA",
        "outputId": "81def6ba-ffae-4418-f751-bf41754dbba9"
      },
      "execution_count": 6,
      "outputs": [
        {
          "output_type": "execute_result",
          "data": {
            "text/plain": [
              "DeviceArray([ 1,  2,  2,  3,  3,  3,  4,  5,  6,  6,  6,  7,  7,  7,  7,\n",
              "              8,  8,  9, 10, 10, 10, 11, 12, 12, 13, 13, 13, 13, 16, 16,\n",
              "             17, 17, 19, 19, 21, 21, 25, 25, 27, 27, 27, 28, 29, 29, 30,\n",
              "             30, 31, 31, 31, 31, 32, 32, 32, 32, 32, 32, 32, 32, 32, 32,\n",
              "             32, 33, 33, 33, 33, 33, 33, 33, 33, 33, 33, 33, 33, 33, 33,\n",
              "             33, 33, 33,  0,  0,  1,  0,  1,  2,  0,  0,  0,  4,  5,  0,\n",
              "              1,  2,  3,  0,  2,  2,  0,  4,  5,  0,  0,  3,  0,  1,  2,\n",
              "              3,  5,  6,  0,  1,  0,  1,  0,  1, 23, 24,  2, 23, 24,  2,\n",
              "             23, 26,  1,  8,  0, 24, 25, 28,  2,  8, 14, 15, 18, 20, 22,\n",
              "             23, 29, 30, 31,  8,  9, 13, 14, 15, 18, 19, 20, 22, 23, 26,\n",
              "             27, 28, 29, 30, 31, 32], dtype=int32)"
            ]
          },
          "metadata": {},
          "execution_count": 6
        }
      ]
    },
    {
      "cell_type": "code",
      "source": [
        "graph.receivers"
      ],
      "metadata": {
        "colab": {
          "base_uri": "https://localhost:8080/"
        },
        "id": "U9wLXLQVVi7m",
        "outputId": "f5b789db-61be-4f9f-bfec-1943eb9ba971"
      },
      "execution_count": 7,
      "outputs": [
        {
          "output_type": "execute_result",
          "data": {
            "text/plain": [
              "DeviceArray([ 0,  0,  1,  0,  1,  2,  0,  0,  0,  4,  5,  0,  1,  2,  3,\n",
              "              0,  2,  2,  0,  4,  5,  0,  0,  3,  0,  1,  2,  3,  5,  6,\n",
              "              0,  1,  0,  1,  0,  1, 23, 24,  2, 23, 24,  2, 23, 26,  1,\n",
              "              8,  0, 24, 25, 28,  2,  8, 14, 15, 18, 20, 22, 23, 29, 30,\n",
              "             31,  8,  9, 13, 14, 15, 18, 19, 20, 22, 23, 26, 27, 28, 29,\n",
              "             30, 31, 32,  1,  2,  2,  3,  3,  3,  4,  5,  6,  6,  6,  7,\n",
              "              7,  7,  7,  8,  8,  9, 10, 10, 10, 11, 12, 12, 13, 13, 13,\n",
              "             13, 16, 16, 17, 17, 19, 19, 21, 21, 25, 25, 27, 27, 27, 28,\n",
              "             29, 29, 30, 30, 31, 31, 31, 31, 32, 32, 32, 32, 32, 32, 32,\n",
              "             32, 32, 32, 32, 33, 33, 33, 33, 33, 33, 33, 33, 33, 33, 33,\n",
              "             33, 33, 33, 33, 33, 33], dtype=int32)"
            ]
          },
          "metadata": {},
          "execution_count": 7
        }
      ]
    },
    {
      "cell_type": "code",
      "source": [
        "graph.y"
      ],
      "metadata": {
        "colab": {
          "base_uri": "https://localhost:8080/"
        },
        "id": "zLlHa19-VlG5",
        "outputId": "076e446e-6512-4193-b1fd-b9d3cc5bcd83"
      },
      "execution_count": 8,
      "outputs": [
        {
          "output_type": "execute_result",
          "data": {
            "text/plain": [
              "DeviceArray([1, 1, 1, 1, 3, 3, 3, 1, 0, 1, 3, 1, 1, 1, 0, 0, 3, 1, 0, 1,\n",
              "             0, 1, 0, 0, 2, 2, 0, 0, 2, 0, 0, 2, 0, 0], dtype=int32)"
            ]
          },
          "metadata": {},
          "execution_count": 8
        }
      ]
    },
    {
      "cell_type": "code",
      "source": [
        "graph.train_mask"
      ],
      "metadata": {
        "colab": {
          "base_uri": "https://localhost:8080/"
        },
        "id": "T2WWOeXHVm-d",
        "outputId": "f06a7300-ea49-4a83-bd9e-688fa7760ca4"
      },
      "execution_count": 9,
      "outputs": [
        {
          "output_type": "execute_result",
          "data": {
            "text/plain": [
              "DeviceArray([0., 0., 0., 0., 0., 0., 0., 0., 0., 0., 0., 0., 0., 0., 0.,\n",
              "             0., 0., 0., 0., 0., 0., 0., 0., 0., 0., 0., 0., 0., 0., 0.,\n",
              "             0., 0., 0., 0.], dtype=float32)"
            ]
          },
          "metadata": {},
          "execution_count": 9
        }
      ]
    },
    {
      "cell_type": "markdown",
      "source": [
        "# Define GCN model\n",
        "We create here a model with 2 layers of [GCNConv](https://haiku-geometric.readthedocs.io/en/latest/modules/nn.html#haiku_geometric.nn.conv.GCNConv) from the [\"Semi-Supervised Classification with Graph Convolutional Networks\"](https://arxiv.org/abs/1609.02907) paper."
      ],
      "metadata": {
        "id": "cMHN3DJfWLsu"
      }
    },
    {
      "cell_type": "code",
      "source": [
        "NUM_CLASSES = 4\n",
        "\n",
        "# Hyperparameters\n",
        "args = {\n",
        "    'hidden_dim': 8,\n",
        "    'output_dim': NUM_CLASSES,\n",
        "    'num_steps': 101,\n",
        "    'learning_rate': 1e-2\n",
        "}"
      ],
      "metadata": {
        "id": "1phXgj_SbhJJ"
      },
      "execution_count": 10,
      "outputs": []
    },
    {
      "cell_type": "code",
      "source": [
        "class MyNet(hk.Module):\n",
        "  def __init__(self, hidden_dim, output_dim):\n",
        "    super().__init__()\n",
        "    self.conv1 = GCNConv(hidden_dim, add_self_loops=True, bias=False)\n",
        "    self.linear1 = hk.Linear(hidden_dim)\n",
        "    self.conv2 = GCNConv(hidden_dim, add_self_loops=False, bias=False)\n",
        "    self.linear2 = hk.Linear(output_dim)\n",
        "\n",
        "  def __call__(self, graph):\n",
        "    nodes, senders, receivers = graph.nodes, graph.senders, graph.receivers\n",
        "\n",
        "    x = self.conv1(nodes, senders, receivers)\n",
        "    x = self.linear1(x)\n",
        "    x = jax.nn.relu(x)\n",
        "    x = self.conv2(x, senders, receivers)\n",
        "    x = self.linear2(x)\n",
        "    return x"
      ],
      "metadata": {
        "id": "S-wDhnpYXhBU"
      },
      "execution_count": 11,
      "outputs": []
    },
    {
      "cell_type": "code",
      "source": [
        "def forward(graph, args):\n",
        "  module = MyNet(args['hidden_dim'], args['output_dim'])\n",
        "  return module(graph)"
      ],
      "metadata": {
        "id": "kD6fq_sXacsc"
      },
      "execution_count": 12,
      "outputs": []
    },
    {
      "cell_type": "markdown",
      "source": [
        "\n",
        "\n",
        "Transform Haiku module"
      ],
      "metadata": {
        "id": "DI282yCybs9Z"
      }
    },
    {
      "cell_type": "code",
      "source": [
        "rng_key = jax.random.PRNGKey(42)\n",
        "model = hk.without_apply_rng(hk.transform(forward))\n",
        "params = model.init(graph=graph, args=args, rng=rng_key)\n",
        "output = model.apply(graph=graph, args=args, params=params)"
      ],
      "metadata": {
        "id": "k-NtENGebwAc"
      },
      "execution_count": 13,
      "outputs": []
    },
    {
      "cell_type": "markdown",
      "source": [
        "# Train the model"
      ],
      "metadata": {
        "id": "CPqmUOE1dc3c"
      }
    },
    {
      "cell_type": "code",
      "source": [
        "labels = graph.y # Get ground truth labels"
      ],
      "metadata": {
        "id": "1au6BXh1elz9"
      },
      "execution_count": 14,
      "outputs": []
    },
    {
      "cell_type": "code",
      "source": [
        "@jax.jit\n",
        "def prediction_loss(params):\n",
        "    logits = model.apply(params=params, graph=graph, args=args)\n",
        "    one_hot_labels = jax.nn.one_hot(labels, NUM_CLASSES)\n",
        "    log_likelihood = jnp.sum(one_hot_labels * jax.nn.log_softmax(logits))\n",
        "    return -log_likelihood\n",
        "\n",
        "opt_init, opt_update = optax.adam(args[\"learning_rate\"])\n",
        "opt_state = opt_init(params)\n",
        "\n",
        "@jax.jit\n",
        "def update(params, opt_state):\n",
        "    g = jax.grad(prediction_loss)(params)\n",
        "    updates, opt_state = opt_update(g, opt_state)\n",
        "    return optax.apply_updates(params, updates), opt_state\n",
        "\n",
        "@jax.jit\n",
        "def accuracy(params):\n",
        "    decoded_nodes = model.apply(params=params, graph=graph, args=args)\n",
        "    return jnp.mean(jnp.argmax(decoded_nodes, axis=1) == labels)\n",
        "\n",
        "for step in range(args[\"num_steps\"]):\n",
        "    if step % 10 == 0:\n",
        "      print(f\"step {step} accuracy {accuracy(params).item():.2f}\")\n",
        "    params, opt_state = update(params, opt_state)"
      ],
      "metadata": {
        "id": "KR8fs7PDdfTs",
        "colab": {
          "base_uri": "https://localhost:8080/"
        },
        "outputId": "c9a0abc5-2369-4be6-8c4e-6bdd5b391ea0"
      },
      "execution_count": 15,
      "outputs": [
        {
          "output_type": "stream",
          "name": "stdout",
          "text": [
            "step 0 accuracy 0.24\n",
            "step 10 accuracy 0.68\n",
            "step 20 accuracy 0.65\n",
            "step 30 accuracy 0.68\n",
            "step 40 accuracy 0.76\n",
            "step 50 accuracy 0.85\n",
            "step 60 accuracy 0.94\n",
            "step 70 accuracy 0.94\n",
            "step 80 accuracy 0.94\n",
            "step 90 accuracy 0.97\n",
            "step 100 accuracy 1.00\n"
          ]
        }
      ]
    }
  ]
}