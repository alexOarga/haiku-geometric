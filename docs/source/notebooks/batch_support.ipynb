{
  "nbformat": 4,
  "nbformat_minor": 0,
  "metadata": {
    "colab": {
      "provenance": []
    },
    "kernelspec": {
      "name": "python3",
      "display_name": "Python 3"
    },
    "language_info": {
      "name": "python"
    }
  },
  "cells": [
    {
      "cell_type": "markdown",
      "source": [
        "# Batch support\n",
        "\n",
        "This notebook explains how to use the batch support in Haiku Geometric."
      ],
      "metadata": {
        "id": "HDObRj0KtYYi"
      }
    },
    {
      "cell_type": "code",
      "source": [
        "!pip install git+https://github.com/alexOarga/haiku-geometric.git"
      ],
      "metadata": {
        "colab": {
          "base_uri": "https://localhost:8080/"
        },
        "id": "5qRMCAbXtrxm",
        "outputId": "844c4ae6-f4e0-43cb-a01b-e53f706e48bd"
      },
      "execution_count": 1,
      "outputs": [
        {
          "output_type": "stream",
          "name": "stdout",
          "text": [
            "Looking in indexes: https://pypi.org/simple, https://us-python.pkg.dev/colab-wheels/public/simple/\n",
            "Collecting git+https://github.com/alexOarga/haiku-geometric.git\n",
            "  Cloning https://github.com/alexOarga/haiku-geometric.git to /tmp/pip-req-build-l922idp0\n",
            "  Running command git clone --filter=blob:none --quiet https://github.com/alexOarga/haiku-geometric.git /tmp/pip-req-build-l922idp0\n",
            "  Resolved https://github.com/alexOarga/haiku-geometric.git to commit dbaa4355a068b75c08a181002789a2623d657f20\n",
            "  Preparing metadata (setup.py) ... \u001b[?25l\u001b[?25hdone\n",
            "Requirement already satisfied: jax in /usr/local/lib/python3.10/dist-packages (from haiku-geometric==0.0.3) (0.4.10)\n",
            "Collecting dm-haiku (from haiku-geometric==0.0.3)\n",
            "  Downloading dm_haiku-0.0.9-py3-none-any.whl (352 kB)\n",
            "\u001b[2K     \u001b[90m━━━━━━━━━━━━━━━━━━━━━━━━━━━━━━━━━━━━━━━\u001b[0m \u001b[32m352.1/352.1 kB\u001b[0m \u001b[31m6.5 MB/s\u001b[0m eta \u001b[36m0:00:00\u001b[0m\n",
            "\u001b[?25hCollecting jraph (from haiku-geometric==0.0.3)\n",
            "  Downloading jraph-0.0.6.dev0-py3-none-any.whl (90 kB)\n",
            "\u001b[2K     \u001b[90m━━━━━━━━━━━━━━━━━━━━━━━━━━━━━━━━━━━━━━━━\u001b[0m \u001b[32m90.6/90.6 kB\u001b[0m \u001b[31m7.9 MB/s\u001b[0m eta \u001b[36m0:00:00\u001b[0m\n",
            "\u001b[?25hRequirement already satisfied: setuptools in /usr/local/lib/python3.10/dist-packages (from haiku-geometric==0.0.3) (67.7.2)\n",
            "Requirement already satisfied: tqdm in /usr/local/lib/python3.10/dist-packages (from haiku-geometric==0.0.3) (4.65.0)\n",
            "Requirement already satisfied: numba in /usr/local/lib/python3.10/dist-packages (from haiku-geometric==0.0.3) (0.56.4)\n",
            "Requirement already satisfied: absl-py>=0.7.1 in /usr/local/lib/python3.10/dist-packages (from dm-haiku->haiku-geometric==0.0.3) (1.4.0)\n",
            "Collecting jmp>=0.0.2 (from dm-haiku->haiku-geometric==0.0.3)\n",
            "  Downloading jmp-0.0.4-py3-none-any.whl (18 kB)\n",
            "Requirement already satisfied: numpy>=1.18.0 in /usr/local/lib/python3.10/dist-packages (from dm-haiku->haiku-geometric==0.0.3) (1.22.4)\n",
            "Requirement already satisfied: tabulate>=0.8.9 in /usr/local/lib/python3.10/dist-packages (from dm-haiku->haiku-geometric==0.0.3) (0.8.10)\n",
            "Requirement already satisfied: ml-dtypes>=0.1.0 in /usr/local/lib/python3.10/dist-packages (from jax->haiku-geometric==0.0.3) (0.1.0)\n",
            "Requirement already satisfied: opt-einsum in /usr/local/lib/python3.10/dist-packages (from jax->haiku-geometric==0.0.3) (3.3.0)\n",
            "Requirement already satisfied: scipy>=1.7 in /usr/local/lib/python3.10/dist-packages (from jax->haiku-geometric==0.0.3) (1.10.1)\n",
            "Requirement already satisfied: jaxlib>=0.1.37 in /usr/local/lib/python3.10/dist-packages (from jraph->haiku-geometric==0.0.3) (0.4.10+cuda11.cudnn86)\n",
            "Requirement already satisfied: llvmlite<0.40,>=0.39.0dev0 in /usr/local/lib/python3.10/dist-packages (from numba->haiku-geometric==0.0.3) (0.39.1)\n",
            "Building wheels for collected packages: haiku-geometric\n",
            "  Building wheel for haiku-geometric (setup.py) ... \u001b[?25l\u001b[?25hdone\n",
            "  Created wheel for haiku-geometric: filename=haiku_geometric-0.0.3-py3-none-any.whl size=66820 sha256=7a2932827f692a11f84b926b0e7bd5b881aab53014fcd1a979816b7746060044\n",
            "  Stored in directory: /tmp/pip-ephem-wheel-cache-96r8k3ii/wheels/6d/c8/78/14a6c0c286c4741751a879af965959215998cf61393802087a\n",
            "Successfully built haiku-geometric\n",
            "Installing collected packages: jmp, dm-haiku, jraph, haiku-geometric\n",
            "Successfully installed dm-haiku-0.0.9 haiku-geometric-0.0.3 jmp-0.0.4 jraph-0.0.6.dev0\n"
          ]
        }
      ]
    },
    {
      "cell_type": "markdown",
      "source": [
        "## Batching graphs\n",
        "\n",
        "The `haiku_geometric.utils.batch` function can be used to batch a list of\n",
        "`haiku_geometric.data.DataGraphTuple` objects into a single `haiku_geometric.data.DataGraphTuple` object."
      ],
      "metadata": {
        "id": "_IyJz0r0tugA"
      }
    },
    {
      "cell_type": "code",
      "source": [
        "import jax.numpy as jnp\n",
        "from haiku_geometric.utils import batch\n",
        "from haiku_geometric.datasets.base import DataGraphTuple\n",
        "\n",
        "graph1 = DataGraphTuple(\n",
        "    nodes=jnp.array([0.0, 0.1, 0.2]),\n",
        "    senders=jnp.array([0, 1, 2]),\n",
        "    receivers=jnp.array([2, 2, 0]),\n",
        "    edges=None,\n",
        "    n_node=jnp.array([3]),\n",
        "    n_edge=jnp.array([3]),\n",
        "    globals=None,\n",
        "    position=None,\n",
        "    y=jnp.array([0, 0, 0]),\n",
        "    train_mask=jnp.array([0, 0]),\n",
        ")\n",
        "\n",
        "graph2 = DataGraphTuple(\n",
        "    nodes=jnp.array([0.0, 0.0]),\n",
        "    senders=jnp.array([0, 1]),\n",
        "    receivers=jnp.array([1, 0]),\n",
        "    edges=jnp.array([0, 0]),\n",
        "    n_node=jnp.array([2]),\n",
        "    n_edge=jnp.array([2]),\n",
        "    globals=jnp.array([0, 0]),\n",
        "    position=jnp.array([0, 0]),\n",
        "    y=jnp.array([0, 0]),\n",
        "    train_mask=jnp.array([0, 0]),\n",
        ")\n",
        "\n",
        "batched_graph = batch([graph1, graph2])"
      ],
      "metadata": {
        "colab": {
          "base_uri": "https://localhost:8080/"
        },
        "id": "krfCUf9HtoKt",
        "outputId": "46f3833d-9d0c-425b-e493-548d001cb198"
      },
      "execution_count": 2,
      "outputs": [
        {
          "output_type": "stream",
          "name": "stderr",
          "text": [
            "WARNING:jax._src.xla_bridge:No GPU/TPU found, falling back to CPU. (Set TF_CPP_MIN_LOG_LEVEL=0 and rerun for more info.)\n"
          ]
        }
      ]
    },
    {
      "cell_type": "markdown",
      "source": [
        "## Unbatching graphs\n",
        "\n",
        "To unbatch a `DataGraphTuple` object created with `batch` function,\n",
        "we can use the `haiku_geometric.utils.unbatch` function. This function takes a `DataGraphTuple`\n",
        "object and returns a list of `haiku_geometric.data.DataGraphTuple` objects."
      ],
      "metadata": {
        "id": "bm3sA4o1uSn3"
      }
    },
    {
      "cell_type": "code",
      "source": [
        "from haiku_geometric.utils import unbatch\n",
        "\n",
        "unbatched_graphs = unbatch(batched_graph)\n",
        "graph1 = unbatched_graphs[0]\n",
        "graph2 = unbatched_graphs[1]"
      ],
      "metadata": {
        "id": "xyDiWJv5ugsr"
      },
      "execution_count": 3,
      "outputs": []
    },
    {
      "cell_type": "markdown",
      "source": [
        "## Dynamic batching\n",
        "\n",
        "Unfortunately, Haiku Geometric does not currently support dynamic batching. If you are working with `jraph`,\n",
        "you can create a `jraph.GraphsTuple` object and use the available function `jraph.dynamically_batch`."
      ],
      "metadata": {
        "id": "UtgF9JP1ZZ1-"
      }
    },
    {
      "cell_type": "code",
      "source": [
        "import jax.numpy as jnp\n",
        "import jraph\n",
        "\n",
        "graph1 = jraph.GraphsTuple(\n",
        "    nodes=jnp.array([0.0, 0.1, 0.2]),\n",
        "    senders=jnp.array([0, 1, 2]),\n",
        "    receivers=jnp.array([2, 2, 0]),\n",
        "    edges=None,\n",
        "    n_node=jnp.array([3]),\n",
        "    n_edge=jnp.array([3]),\n",
        "    globals=None,\n",
        ")\n",
        "\n",
        "graph2 = jraph.GraphsTuple(\n",
        "    nodes=jnp.array([0.0, 0.0]),\n",
        "    senders=jnp.array([0, 1]),\n",
        "    receivers=jnp.array([1, 0]),\n",
        "    edges=None,\n",
        "    n_node=jnp.array([2]),\n",
        "    n_edge=jnp.array([2]),\n",
        "    globals=None,\n",
        ")\n",
        "\n",
        "MAXIMUM_NUM_NODES = 2\n",
        "MAXIMUM_NUM_EDGES = 3\n",
        "MAXIMUM_NUM_GRAPHS = 2\n",
        "\n",
        "batched_generator = jraph.dynamically_batch([graph1, graph2],\n",
        "                                        MAXIMUM_NUM_NODES, # max number of nodes in a batch\n",
        "                                        MAXIMUM_NUM_EDGES, # max number of edges in a batch\n",
        "                                        MAXIMUM_NUM_GRAPHS)  # max number of graphs in a batch"
      ],
      "metadata": {
        "id": "-HqgVgEvZawQ"
      },
      "execution_count": 6,
      "outputs": []
    }
  ]
}